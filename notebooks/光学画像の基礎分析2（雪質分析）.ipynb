{
 "cells": [
  {
   "cell_type": "markdown",
   "metadata": {},
   "source": [
    "# 光学画像の基礎分析2（雪質分析）\n",
    "このnotebookでは、光学画像の基礎的な分析として、NDSIの類似手法による雪質の判定を取り扱います。\n",
    "\n",
    "***注意:***\n",
    "* **`~/examples` 内では上書き保存することができません。編集する場合は `~/work` ディレクトリへコピーしてから実行することをおすすめします。**\n",
    "* **このnotebookで取得する全てのデータはTellus上での利用に限定されます**\n",
    "* **このnotebookで利用するTellus APIには一部サンプル目的のものが含まれます。これは予告なく変更される場合がございます。**\n",
    "* **このnotebookでの分析の正確性については一切保証いたしません**"
   ]
  },
  {
   "cell_type": "code",
   "execution_count": null,
   "metadata": {},
   "outputs": [],
   "source": [
    "import numpy as np\n",
    "from skimage import io\n",
    "from skimage import color\n",
    "from skimage import img_as_ubyte\n",
    "from skimage import filters\n",
    "import matplotlib.pyplot as plt\n",
    "%matplotlib inline"
   ]
  },
  {
   "cell_type": "markdown",
   "metadata": {},
   "source": [
    "## NDSI（Normalized Difference Snow Index）とは\n",
    "NDSIは雪を判定するために2つのバンド帯の差を取り、値を正規化したものです。\n",
    "これは、雪の分光反射特性が波長 0.6㎛（緑）付近で高く、波長 1.5 ㎛（中間赤外）付近で低いことを利用しています。\n",
    "\n",
    "緑波長（G）と中間赤外波長（SWIR）を用いて、\n",
    "\n",
    "`NDSI = (G - SWIR) / (G + SWIR)` \n",
    "\n",
    "と計算されます。\n",
    "閾値は `0.4` 周辺が一般に利用され、閾値以上の場合は積雪、閾値以下は非積雪と判定します。ですが、AVNIR-2の光学画像には、`Band1 (R)`, `Band2 (G)`, `Band3 (B)`, `Bnad4 (NIR)` の4band帯しかないため、SWIRを使わずに、NDSIに近いものを調査していきます。\n",
    "\n",
    "似た指標として、以下のようなものがあります。\n",
    "\n",
    "* NDVI: Normalized Difference Vegetation Index（正規化植生指数）\n",
    "* NDWI: Normalized Difference Water Index（正規化水指数）\n",
    "\n",
    "NDVIは植生の分布状況や活性度を示す指標で、近赤外波長（NIR）と赤波長（R）を用いて、 `NDVI = (NIR-R) / (NIR+R)` で計算されます。NDVIの値が大きくなるほど植生が濃いと判断されます。\n",
    "\n",
    "NDWIは地表面における水の存在と深い関連をもつ指標の1つで、赤波長（R）と中間赤外波長（SWIR）を用いて、 `NDWI =(R-SWIR)/(R+SWIR)` で計算されます。NDWIの値が大きくなるほど表面が帯水状況にあると判断されます。"
   ]
  },
  {
   "cell_type": "markdown",
   "metadata": {},
   "source": [
    "## Tellusからの光学画像の取得と前処理\n",
    "富士山周辺の光学画像をTellusから取得します。今回はタイル化されたPNG形式のデータを扱います。位置の指定はXYZ方式を採用しています。詳細は [こちら（外部サイト）](https://maps.gsi.go.jp/development/siyou.html) をご覧ください。\n",
    "\n",
    "詳細補足: ALOSという衛星のAVNIR-2と呼ばれるセンサから取得されたデータを扱います。AVNIR-2については [こちら（外部サイト）](https://www.eorc.jaxa.jp/ALOS/about/javnir2.htm) をご覧ください。\n",
    "\n",
    "***注意:***\n",
    "* **ここで利用しているAPIはサンプル目的のものです。Tellus Jupyter環境のみから利用できます。正式なAPIは今後追加される予定です。**"
   ]
  },
  {
   "cell_type": "code",
   "execution_count": null,
   "metadata": {},
   "outputs": [],
   "source": [
    "# APIのドメイン\n",
    "URL_DOMAIN = \"https://gisapi.opf-dev.jp/\"\n",
    "\n",
    "# 富士山の位置\n",
    "Z = 13\n",
    "X = 7252\n",
    "Y = 3234\n",
    "\n",
    "def get_data(img_type, domain=URL_DOMAIN, z=Z, x=X, y=Y):\n",
    "    return io.imread(\"{}/{}/{}/{}/{}.png\".format(domain, img_type, z, x, y))\n",
    "\n",
    "img_osm = get_data(\"osm\")\n",
    "img_band1= get_data(\"av2ori/band1\").astype('int32')\n",
    "img_band2 = get_data(\"av2ori/band2\").astype('int32')\n",
    "img_band3 = get_data(\"av2ori/band3\").astype('int32')\n",
    "img_band4 = get_data(\"av2ori/band4\").astype('int32')\n",
    "img_true = np.c_[img_band3[:,:,0:1], img_band2[:,:,1:2], img_band1[:,:,2:3]]"
   ]
  },
  {
   "cell_type": "code",
   "execution_count": null,
   "metadata": {},
   "outputs": [],
   "source": [
    "# 元画像確認\n",
    "io.imshow(img_true)"
   ]
  },
  {
   "cell_type": "markdown",
   "metadata": {},
   "source": [
    "## NDSIの代替を検証\n",
    "`NDSI = (G - SWIR) / (G + SWIR)` を、`SWIR` の代わりに `NIR` を利用して検証していきます。"
   ]
  },
  {
   "cell_type": "code",
   "execution_count": null,
   "metadata": {
    "scrolled": true
   },
   "outputs": [],
   "source": [
    "img_NDSI_24 = (img_band2[:,:,1] - img_band4[:,:,1])  / (img_band2[:,:,1] + img_band4[:,:,1])\n",
    "io.imshow(img_NDSI_24)"
   ]
  },
  {
   "cell_type": "markdown",
   "metadata": {},
   "source": [
    "Band4の代わりに、それぞれBand1, 3でも検証してみます。"
   ]
  },
  {
   "cell_type": "code",
   "execution_count": null,
   "metadata": {},
   "outputs": [],
   "source": [
    "# Band4の代わりにBnad1を利用\n",
    "img_NDSI_21 = (img_band2[:,:,1] - img_band1[:,:,2]) / (img_band2[:,:,1] + img_band1[:,:,2])\n",
    "io.imshow(img_NDSI_21)"
   ]
  },
  {
   "cell_type": "code",
   "execution_count": null,
   "metadata": {},
   "outputs": [],
   "source": [
    "# Band4の代わりにBnad3を利用\n",
    "img_NDSI_23 = (img_band2[:,:,1] - img_band3[:,:,0]) / (img_band2[:,:,1] + img_band3[:,:,0])\n",
    "io.imshow(img_NDSI_23)"
   ]
  },
  {
   "cell_type": "markdown",
   "metadata": {},
   "source": [
    "それ以外にも、Band4を固定した組み合わせも確認してみます。"
   ]
  },
  {
   "cell_type": "code",
   "execution_count": null,
   "metadata": {
    "scrolled": false
   },
   "outputs": [],
   "source": [
    "# Band3とBand4\n",
    "img_NDSI_34 = (img_band3[:,:,0] - img_band4[:,:,0]) / (img_band3[:,:,0] + img_band4[:,:,0])\n",
    "io.imshow(img_NDSI_34)"
   ]
  },
  {
   "cell_type": "code",
   "execution_count": null,
   "metadata": {},
   "outputs": [],
   "source": [
    "# Band1とBand4\n",
    "img_NDSI_14 = (img_band1[:,:,2] - img_band4[:,:,0]) / (img_band1[:,:,2] + img_band4[:,:,0])\n",
    "\n",
    "io.imshow(img_NDSI_14)"
   ]
  },
  {
   "cell_type": "markdown",
   "metadata": {},
   "source": [
    "Band4を使うと近しい結果が得られたようです。Band2-Band4を利用し閾値の判定を行います。"
   ]
  },
  {
   "cell_type": "markdown",
   "metadata": {},
   "source": [
    "## NDSIの閾値を調査\n",
    "まずヒストグラムで分布を確認します。"
   ]
  },
  {
   "cell_type": "code",
   "execution_count": null,
   "metadata": {},
   "outputs": [],
   "source": [
    "img_NDSI_24 =  (img_band2[:,:,1] - img_band4[:,:,1])  / (img_band2[:,:,1] + img_band4[:,:,1])\n",
    "hists, bins=np.histogram(img_NDSI_24, 255, [-1, 1])\n",
    "plt.plot(np.linspace(-1, 1, 255), hists)"
   ]
  },
  {
   "cell_type": "markdown",
   "metadata": {},
   "source": [
    "2つのバンドの値が同じで、値が0になっているケースが多いことが分かります。\n",
    "\n",
    "2つの山を分けるように、`0.2` を閾値にして分類してみます。"
   ]
  },
  {
   "cell_type": "code",
   "execution_count": null,
   "metadata": {
    "scrolled": true
   },
   "outputs": [],
   "source": [
    "height, width= img_NDSI_24.shape\n",
    "img_binary_24 = np.zeros((height, width)) # 0で初期化\n",
    "img_binary_24 = img_NDSI_24 > 0.2 # 閾値にもとづいて2値化\n",
    "io.imshow(np.concatenate((color.gray2rgb(img_binary_24*255), img_true), axis=1))"
   ]
  },
  {
   "cell_type": "markdown",
   "metadata": {},
   "source": [
    "確かに `SWIR` を使わないとあまりうまく抽出できないことがわかりました。"
   ]
  },
  {
   "cell_type": "markdown",
   "metadata": {},
   "source": [
    "## Band2-Band4を連続的な雪質と仮定してみる\n",
    "雪判定には明度に基づくものを適用し、それでマスクを取ります。"
   ]
  },
  {
   "cell_type": "code",
   "execution_count": null,
   "metadata": {},
   "outputs": [],
   "source": [
    "# RGB画像からHSV画像への変換\n",
    "img_hsv = color.rgb2hsv(img_true.astype(\"uint8\"))\n",
    "img_v = img_hsv[:,:,2]\n",
    "\n",
    "height, width= img_v.shape\n",
    "img_binary = np.zeros((height, width)) # 0で初期化\n",
    "img_binary = img_v > 90 / 255 # 閾値にもとづいて2値化\n",
    "\n",
    "io.imshow(img_binary)"
   ]
  },
  {
   "cell_type": "code",
   "execution_count": null,
   "metadata": {},
   "outputs": [],
   "source": [
    "img_NDSI =  (img_band2[:,:,1] - img_band4[:,:,1]) / (img_band2[:,:,1] + img_band4[:,:,1])\n",
    "\n",
    "# 明度を使って雪部分をマスキング\n",
    "img_msk = img_true.copy()\n",
    "img_msk[img_binary] = 0\n",
    "\n",
    "# 雪部分にNDSIを使ってグラデーションをかける\n",
    "# （薄い水色になるほど雪が深く、濃い青になるほど雪が薄い）\n",
    "height, width= img_binary.shape\n",
    "img_ndsi_grad = np.zeros((height, width, 3)) # 0で初期化\n",
    "img_ndsi_grad[:,:,0] = 0\n",
    "img_ndsi_grad[:,:,1] = (img_NDSI + 0.3 ) * 255 #値が0~255になるように修正\n",
    "img_ndsi_grad[:,:,2] = 255\n",
    "img_ndsi_grad[~img_binary] = 0\n",
    "\n",
    "# 2つの画像を合成\n",
    "img_ndsi_grad_msk  = img_ndsi_grad + img_msk\n",
    "\n",
    "io.imshow(img_ndsi_grad_msk.astype(\"uint8\"))"
   ]
  },
  {
   "cell_type": "markdown",
   "metadata": {},
   "source": [
    "あくまで大雑把な仮定に基づく結果であることに注意してください。実際の雪質を表す教師データを組み合わせると、より確かな分析・検証が行うことができるでしょう。"
   ]
  }
 ],
 "metadata": {
  "kernelspec": {
   "display_name": "Python 3",
   "language": "python",
   "name": "python3"
  },
  "language_info": {
   "codemirror_mode": {
    "name": "ipython",
    "version": 3
   },
   "file_extension": ".py",
   "mimetype": "text/x-python",
   "name": "python",
   "nbconvert_exporter": "python",
   "pygments_lexer": "ipython3",
   "version": "3.6.8"
  }
 },
 "nbformat": 4,
 "nbformat_minor": 2
}
