{
 "cells": [
  {
   "cell_type": "markdown",
   "metadata": {},
   "source": [
    "# 光学画像の基礎分析1（雪判定）\n",
    "このnotebookでは、光学画像の基礎的な分析として、雪のセグメンテーションを取り扱います。\n",
    "\n",
    "***注意:***\n",
    "* **`~/examples` 内では上書き保存することができません。編集する場合は `~/work` ディレクトリへコピーしてから実行することをおすすめします。**\n",
    "* **このnotebookで取得する全てのデータはTellus上での利用に限定されます**\n",
    "* **このnotebookで利用するTellus APIには一部サンプル目的のものが含まれます。これは予告なく変更される場合がございます。**\n",
    "* **このnotebookでの分析の正確性については一切保証いたしません**"
   ]
  },
  {
   "cell_type": "code",
   "execution_count": null,
   "metadata": {},
   "outputs": [],
   "source": [
    "import numpy as np\n",
    "from skimage import io\n",
    "from skimage import color\n",
    "from skimage import img_as_ubyte\n",
    "from skimage import filters\n",
    "import matplotlib.pyplot as plt\n",
    "%matplotlib inline"
   ]
  },
  {
   "cell_type": "markdown",
   "metadata": {},
   "source": [
    "## Tellusから光学画像の取得と前処理\n",
    "富士山周辺の光学画像をTellusから取得します。今回はタイル化されたPNG形式のデータを扱います。位置の指定はXYZ方式を採用しています。詳細は [こちら（外部サイト）](https://maps.gsi.go.jp/development/siyou.html) をご覧ください。\n",
    "\n",
    "詳細補足: ALOSという衛星のAVNIR-2と呼ばれるセンサから取得されたデータを扱います。AVNIR-2については [こちら（外部サイト）](https://www.eorc.jaxa.jp/ALOS/about/javnir2.htm) をご覧ください。\n",
    "\n",
    "***注意:***\n",
    "* **ここで利用しているAPIはサンプル目的のものです。Tellus Jupyter環境のみから利用できます。正式なAPIは今後追加される予定です。**"
   ]
  },
  {
   "cell_type": "code",
   "execution_count": null,
   "metadata": {},
   "outputs": [],
   "source": [
    "# APIのドメイン\n",
    "URL_DOMAIN = \"https://gisapi.opf-dev.jp/\"\n",
    "\n",
    "# 富士山の位置\n",
    "Z = 13\n",
    "X = 7252\n",
    "Y = 3234\n",
    "\n",
    "def get_data(img_type, domain=URL_DOMAIN, z=Z, x=X, y=Y):\n",
    "    return io.imread(\"{}/{}/{}/{}/{}.png\".format(domain, img_type, z, x, y))\n",
    "\n",
    "img_osm = get_data(\"osm\")\n",
    "img_band1= get_data(\"av2ori/band1\")\n",
    "img_band2 = get_data(\"av2ori/band2\")\n",
    "img_band3 = get_data(\"av2ori/band3\")\n",
    "img_band4 = get_data(\"av2ori/band4\")"
   ]
  },
  {
   "cell_type": "markdown",
   "metadata": {},
   "source": [
    "### OpenStreetMapの確認"
   ]
  },
  {
   "cell_type": "code",
   "execution_count": null,
   "metadata": {},
   "outputs": [],
   "source": [
    "print(img_osm.shape)\n",
    "io.imshow(img_osm)"
   ]
  },
  {
   "cell_type": "markdown",
   "metadata": {},
   "source": [
    "### AVNIR-2の確認\n",
    "AVNIR-2では4つの異なる波長のデータを利用できます。大まかに、Band1は青の波長、Band2は緑の波長、Band3は赤の波長、Band4は近赤外の波長に対応します。それぞれ単独で見ると以下のような画像になります。"
   ]
  },
  {
   "cell_type": "code",
   "execution_count": null,
   "metadata": {},
   "outputs": [],
   "source": [
    "io.imshow(np.hstack((img_band1,img_band2,img_band3,img_band4)))"
   ]
  },
  {
   "cell_type": "markdown",
   "metadata": {},
   "source": [
    "それぞれ可視光の青・緑・赤・（近赤外）に対応しているため、RGB（赤緑青）として1枚の画像に合成すると人の目で見た色に近いものになります。このようにして合成されたものtrue color画像と呼びます。\n",
    "\n",
    "**true colorのRGB合成**\n",
    "* R: Band3（赤）\n",
    "* G: Band2（緑）\n",
    "* B: Band1（青）"
   ]
  },
  {
   "cell_type": "code",
   "execution_count": null,
   "metadata": {},
   "outputs": [],
   "source": [
    "img_true = np.c_[img_band3[:,:,0:1], img_band2[:,:,1:2], img_band1[:,:,2:3]]\n",
    "io.imshow(img_true)"
   ]
  },
  {
   "cell_type": "markdown",
   "metadata": {},
   "source": [
    "true color以外にも合成方法はあり、例えば植生域だけを際立たせたい時は、植物の分布域が緑で表現されるnatural colorと呼ばれる合成が用いられます。これは、近赤外線は植物の反射率が高いことを利用し、RGBの赤に赤の波長であるBand3、緑に近赤外の波長であるBand4、青に緑の波長であるBand2を割り当てたものです。\n",
    "\n",
    "**natural colorのRGB合成**\n",
    "* R: Band3（赤）\n",
    "* G: Band4（近赤外）\n",
    "* B: Band2（緑）"
   ]
  },
  {
   "cell_type": "code",
   "execution_count": null,
   "metadata": {
    "scrolled": true
   },
   "outputs": [],
   "source": [
    "img_natural = np.c_[img_band3[:,:,0:1], img_band4[:,:,0:1], img_band2[:,:,1:2]]\n",
    "io.imshow(img_natural)"
   ]
  },
  {
   "cell_type": "markdown",
   "metadata": {},
   "source": [
    "## 直感的に白っぽいところを雪として判別してみる\n",
    "ここでは、山の白っぽいところは雪なのでは？という直感に従って雪の抽出を行ってみます。true color画像を2つの方法でグレースケール化、更に閾値を決めて雪が抽出できるか検証してみましょう。\n",
    "\n",
    "### グレースケール化による雪判定\n",
    "#### グレースケール化①\n",
    "`skimage.color.rgb2gray` を使って直接グレースケール化を試みます。"
   ]
  },
  {
   "cell_type": "code",
   "execution_count": null,
   "metadata": {
    "scrolled": false
   },
   "outputs": [],
   "source": [
    "# カラー画像からGrayscale画像への変換\n",
    "img_gray_01 = color.rgb2gray(img_true)\n",
    "\n",
    "# 値のレンジを変更 ([0, 1] -> [0, 255])\n",
    "img_gray = img_as_ubyte(img_gray_01) \n",
    "\n",
    "print(\"変換前: [0, 1]\")\n",
    "print(img_gray_01)\n",
    "print(\"変換後: [0, 255]\")\n",
    "print(img_gray)\n",
    "\n",
    "io.imshow(img_gray)"
   ]
  },
  {
   "cell_type": "markdown",
   "metadata": {},
   "source": [
    "#### グレースケール化②\n",
    "別のグレースケール化方法も試してみましょう。一度RGB空間からYIQ空間へ変換し、Yを利用を利用します。YIQ形式は、グレースケール情報がカラーデータから分離しているため、同じ信号をカラーと白黒の両方で使用可能です。\n",
    "\n",
    "（※ グレースケール化のアルゴリズムによっては `img_gray_01` と `img_yiq[:, :, 0]` が等しくなりますが、skimageでは異なります）"
   ]
  },
  {
   "cell_type": "code",
   "execution_count": null,
   "metadata": {},
   "outputs": [],
   "source": [
    "img_yiq = color.rgb2yiq(img_true)\n",
    "img_conb = np.concatenate(\n",
    "    (img_yiq[:, :, 0], img_yiq[:, :, 1], img_yiq[:, :, 2]), axis=1)\n",
    "io.imshow(img_conb)"
   ]
  },
  {
   "cell_type": "code",
   "execution_count": null,
   "metadata": {
    "scrolled": true
   },
   "outputs": [],
   "source": [
    "# skimage.color.rgb2gray と比較\n",
    "img_conb2 = np.concatenate((img_yiq[:, :, 0], img_gray_01), axis=1)\n",
    "io.imshow(img_conb2)"
   ]
  },
  {
   "cell_type": "code",
   "execution_count": null,
   "metadata": {},
   "outputs": [],
   "source": [
    "# 反転画像も確認\n",
    "img_nega = 255 - img_gray\n",
    "io.imshow(img_nega)"
   ]
  },
  {
   "cell_type": "markdown",
   "metadata": {},
   "source": [
    "#### グレースケール化されたデータの統計情報の確認"
   ]
  },
  {
   "cell_type": "code",
   "execution_count": null,
   "metadata": {},
   "outputs": [],
   "source": [
    "print('pixel sum', np.sum(img_gray[:, :]))\n",
    "print('pixel mean', np.mean(img_gray[:,:]))\n",
    "print('pixel variance', np.var(img_gray[:,:]))\n",
    "print('pixel stddev', np.std(img_gray[:,:]))"
   ]
  },
  {
   "cell_type": "markdown",
   "metadata": {},
   "source": [
    "#### ヒストグラムの確認"
   ]
  },
  {
   "cell_type": "code",
   "execution_count": null,
   "metadata": {},
   "outputs": [],
   "source": [
    "hists, bins = np.histogram(img_gray, 255, [0, 255])\n",
    "plt.plot(hists)"
   ]
  },
  {
   "cell_type": "markdown",
   "metadata": {},
   "source": [
    "明らかなピークは3箇所で `25` と `55` と `250` 付近と分かります。\n",
    "`25〜55` は暗めなので森や岩、`250~255` はほぼ白なので雪と推定することができます。"
   ]
  },
  {
   "cell_type": "markdown",
   "metadata": {},
   "source": [
    "#### 閾値を決めて雪と思われる部分を抽出\n",
    "谷の一番深い位置と思われる `200` を閾値として2値化を行います。"
   ]
  },
  {
   "cell_type": "code",
   "execution_count": null,
   "metadata": {},
   "outputs": [],
   "source": [
    "# 閾値処理\n",
    "height, width= img_gray.shape\n",
    "img_binary_gs200 = np.zeros((height, width)) # 0で初期化\n",
    "img_binary_gs200 = img_gray > 200 # 閾値にもとづいて2値化\n",
    "\n",
    "io.imshow(np.concatenate(\n",
    "    (color.gray2rgb(img_binary_gs200*255), img_true), axis=1))"
   ]
  },
  {
   "cell_type": "markdown",
   "metadata": {},
   "source": [
    "一番明るいところは抽出できているものの、日陰の雪と思われる部分は全く抽出できていないようです。閾値を `80` に変更して再度2値化を行います。"
   ]
  },
  {
   "cell_type": "code",
   "execution_count": null,
   "metadata": {},
   "outputs": [],
   "source": [
    "img_binary_gs80 = np.zeros((height, width)) # 0で初期化\n",
    "img_binary_gs80 = img_gray > 80 # 閾値にもとづいて2値化\n",
    "\n",
    "io.imshow(np.concatenate(\n",
    "    (color.gray2rgb(img_binary_gs80*255), img_true), axis=1))"
   ]
  },
  {
   "cell_type": "markdown",
   "metadata": {},
   "source": [
    "雪と思われる部分をそれなりに抽出できたように見えますが、まだ右上の部分が抽出できていないため、再度閾値を `40` に下げて2値化を行ってみます。"
   ]
  },
  {
   "cell_type": "code",
   "execution_count": null,
   "metadata": {},
   "outputs": [],
   "source": [
    "img_binary_gs40 = np.zeros((height, width)) # 0で初期化\n",
    "img_binary_gs40 = img_gray > 40 # 閾値にもとづいて2値化\n",
    "\n",
    "io.imshow(np.concatenate(\n",
    "    (color.gray2rgb(img_binary_gs40*255), img_true), axis=1))"
   ]
  },
  {
   "cell_type": "markdown",
   "metadata": {},
   "source": [
    "今度は範囲を過剰に取ってしまったようです。\n",
    "\n",
    "なお、Filterプラグインを用いることで、自動で閾値を設定して2値化することもできます。"
   ]
  },
  {
   "cell_type": "code",
   "execution_count": null,
   "metadata": {},
   "outputs": [],
   "source": [
    "th = filters.threshold_otsu(img_gray) # 閾値を自動で判別\n",
    "img_binary_gsauto = np.zeros((height, width))\n",
    "img_binary_gsauto = img_gray > th\n",
    "\n",
    "print(\"閾値：\", th)\n",
    "io.imshow(np.concatenate(\n",
    "    (color.gray2rgb(img_binary_gsauto*255), img_true), axis=1))"
   ]
  },
  {
   "cell_type": "markdown",
   "metadata": {},
   "source": [
    "### HSV画像による雪質判定\n",
    "よりよいセグメンテーションを行うにはグレースケール以外の手法も試す必要がありそうです。次はHSV空間（色相・彩度・明度）に変換した画像を利用して雪の範囲を推定してみます。"
   ]
  },
  {
   "cell_type": "code",
   "execution_count": null,
   "metadata": {
    "scrolled": true
   },
   "outputs": [],
   "source": [
    "# RGB空間からHSV空間へ変換\n",
    "img_hsv = color.rgb2hsv(img_true)\n",
    "io.imshow(img_hsv)"
   ]
  },
  {
   "cell_type": "markdown",
   "metadata": {},
   "source": [
    "#### HSV（色相・彩度・明度）をそれぞれ確認"
   ]
  },
  {
   "cell_type": "code",
   "execution_count": null,
   "metadata": {},
   "outputs": [],
   "source": [
    "im_conb_hsv = np.concatenate(( img_hsv[:, :, 0],  img_hsv[:, :, 1], img_hsv[:,:,2]), axis=1)\n",
    "io.imshow(im_conb_hsv)"
   ]
  },
  {
   "cell_type": "markdown",
   "metadata": {},
   "source": [
    "明度を掘り下げてみます。ヒストグラムで明度の分布を確認します。"
   ]
  },
  {
   "cell_type": "code",
   "execution_count": null,
   "metadata": {
    "scrolled": true
   },
   "outputs": [],
   "source": [
    "hists, bins=np.histogram(img_hsv[:,:,2]*255, 255, [0, 255])\n",
    "plt.plot(hists)"
   ]
  },
  {
   "cell_type": "markdown",
   "metadata": {},
   "source": [
    " `color.rgb2hsv` の利用に起因すると思われる周期が見られます。ピークを分けるよう閾値を `150` に設定し、2値画像を見てみます。"
   ]
  },
  {
   "cell_type": "code",
   "execution_count": null,
   "metadata": {},
   "outputs": [],
   "source": [
    "img_v = img_hsv[:,:,2]\n",
    "# 閾値処理\n",
    "height, width= img_v.shape\n",
    "img_binary_v150 = np.zeros((height, width)) # 0で初期化\n",
    "img_binary_v150 = img_v > 150 / 255 # 閾値にもとづいて2値化\n",
    "\n",
    "io.imshow(np.concatenate(\n",
    "    (color.gray2rgb(img_binary_v150*255), img_true), axis=1))"
   ]
  },
  {
   "cell_type": "markdown",
   "metadata": {},
   "source": [
    "`100` のピークの左側に閾値を設定すべく、閾値を `90` にして再度2値化を行ってみます。"
   ]
  },
  {
   "cell_type": "code",
   "execution_count": null,
   "metadata": {},
   "outputs": [],
   "source": [
    "img_v = img_hsv[:,:,2]\n",
    "# 閾値処理\n",
    "height, width= img_v.shape\n",
    "img_binary_v90 = np.zeros((height, width)) # 0で初期化\n",
    "img_binary_v90 = img_v > 90 / 255 # 閾値にもとづいて2値化\n",
    "\n",
    "io.imshow(np.concatenate(\n",
    "    (color.gray2rgb(img_binary_v90*255), img_true), axis=1))"
   ]
  },
  {
   "cell_type": "markdown",
   "metadata": {},
   "source": [
    "### RGBグレースケール化に基づく手法と明度に基づく手法の比較"
   ]
  },
  {
   "cell_type": "code",
   "execution_count": null,
   "metadata": {},
   "outputs": [],
   "source": [
    "io.imshow(np.concatenate(\n",
    "    (color.gray2rgb(img_binary_gs80*255),\n",
    "     color.gray2rgb(img_binary_v90*255),\n",
    "     img_true), axis=1))"
   ]
  },
  {
   "cell_type": "markdown",
   "metadata": {},
   "source": [
    "明度に基づく手法はグレースケール化に基づく手法と比較して、日陰になった部分も含めて雪判定ができたようです。\n",
    "\n",
    "更に異なる手法も考えられますが、雪判定はここまでとします。"
   ]
  }
 ],
 "metadata": {
  "kernelspec": {
   "display_name": "Python 3",
   "language": "python",
   "name": "python3"
  },
  "language_info": {
   "codemirror_mode": {
    "name": "ipython",
    "version": 3
   },
   "file_extension": ".py",
   "mimetype": "text/x-python",
   "name": "python",
   "nbconvert_exporter": "python",
   "pygments_lexer": "ipython3",
   "version": "3.6.8"
  }
 },
 "nbformat": 4,
 "nbformat_minor": 2
}
