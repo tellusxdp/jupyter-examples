{
 "cells": [
  {
   "cell_type": "markdown",
   "metadata": {},
   "source": [
    "# Tellus API利用サンプル\n",
    "このnotebookでは、Tellus APIを利用して衛星画像の取得・表示と簡単な画像処理を行います。\n",
    "\n",
    "***注意:***\n",
    "* **`~/examples` 内では上書き保存することができません。編集する場合は `~/work` ディレクトリへコピーしてから実行することをおすすめします。**\n",
    "* **このnotebookで取得する全てのデータはTellus上での利用に限定されます**"
   ]
  },
  {
   "cell_type": "code",
   "execution_count": null,
   "metadata": {},
   "outputs": [],
   "source": [
    "import numpy as np\n",
    "from skimage import io, color, img_as_ubyte, filters\n",
    "import requests\n",
    "from io import BytesIO\n",
    "from keras.preprocessing.image import load_img, img_to_array\n",
    "import matplotlib.pyplot as plt\n",
    "%matplotlib inline"
   ]
  },
  {
   "cell_type": "markdown",
   "metadata": {},
   "source": [
    "## Tellusから光学画像の取得と表示\n",
    "皇居周辺の光学画像をTellusから取得します。今回はタイル化されたPNG形式のデータを扱います。位置の指定はXYZ方式を採用しています。詳細は [こちら（外部サイト）](https://maps.gsi.go.jp/development/siyou.html) をご覧ください。\n",
    "\n",
    "詳細補足: ALOSという衛星のAVNIR-2と呼ばれるセンサから取得されたデータを扱います。AVNIR-2については [こちら（外部サイト）](https://www.eorc.jaxa.jp/ALOS/about/javnir2.htm) をご覧ください。"
   ]
  },
  {
   "cell_type": "markdown",
   "metadata": {},
   "source": [
    "Tellus APIを利用するにはAPIトークンを利用した認証が必要です。\n",
    "https://www.tellusxdp.com/ja/mypage/clients からAPIキーを発行してセットしてください。"
   ]
  },
  {
   "cell_type": "code",
   "execution_count": null,
   "metadata": {},
   "outputs": [],
   "source": [
    "# 定数\n",
    "## APIのドメイン\n",
    "URL_DOMAIN = \"gisapi.tellusxdp.com\"\n",
    "BEARER_TOKEN = \"xxx\" # APIトークンをセットしてください\n",
    "\n",
    "## 皇居周辺の座標\n",
    "Z = 13\n",
    "X = 7276\n",
    "Y = 3225\n",
    "\n",
    "if BEARER_TOKEN == \"\":\n",
    "    print(\"APIトークンがセットされていません\")"
   ]
  },
  {
   "cell_type": "code",
   "execution_count": null,
   "metadata": {},
   "outputs": [],
   "source": [
    "def get_data(img_type, domain=URL_DOMAIN, z=Z, x=X, y=Y, query=\"\"):\n",
    "    if query != \"\":\n",
    "        query = \"?\" + query\n",
    "\n",
    "    # AuthorizationヘッダにAPIトークンをセットすることで認証されます\n",
    "    res = requests.get(\"https://{}/{}/{}/{}/{}.png{}\".format(URL_DOMAIN, img_type, z, x, y, query),\n",
    "                   headers={\"Authorization\": \"Bearer \" + BEARER_TOKEN})\n",
    "\n",
    "    # 取得した画像データをNumPyの多次元配列形式で保持します\n",
    "    img = img_to_array(load_img(BytesIO(res.content)))\n",
    "    return img.astype(np.uint8)\n",
    "\n",
    "img_osm = get_data(\"osm\")\n",
    "img_band1= get_data(\"blend\", query=\"r=3&g=2&b=1&rdepth=0&gdepth=0\")\n",
    "img_band2 = get_data(\"blend\", query=\"r=3&g=2&b=1&bdepth=0&rdepth=0\")\n",
    "img_band3 = get_data(\"blend\", query=\"r=3&g=2&b=1&gdepth=0&bdepth=0\")\n",
    "img_band4 = get_data(\"blend\", query=\"r=4&g=4&b=4\")\n",
    "img_ndvi = get_data(\"blend\", query=\"preset=ndvi\")"
   ]
  },
  {
   "cell_type": "markdown",
   "metadata": {},
   "source": [
    "### OpenStreetMap"
   ]
  },
  {
   "cell_type": "code",
   "execution_count": null,
   "metadata": {},
   "outputs": [],
   "source": [
    "print(img_osm.shape)\n",
    "io.imshow(img_osm)"
   ]
  },
  {
   "cell_type": "markdown",
   "metadata": {},
   "source": [
    "### AVNIR-2\n",
    "AVNIR-2では4つの異なる波長のデータを利用できます。大まかに、Band1は青の波長、Band2は緑の波長、Band3は赤の波長、Band4は近赤外の波長に対応します。それぞれ単独で見ると以下のような画像になります。"
   ]
  },
  {
   "cell_type": "code",
   "execution_count": null,
   "metadata": {},
   "outputs": [],
   "source": [
    "io.imshow(np.hstack((img_band1, img_band2, img_band3, img_band4)))"
   ]
  },
  {
   "cell_type": "markdown",
   "metadata": {},
   "source": [
    "#### True Color合成\n",
    "それぞれ可視光の青・緑・赤・（近赤外）に対応しているため、RGB（赤緑青）として1枚の画像に合成すると人の目で見た色に近いものになります。このようにして合成されたものTrue Color画像と呼びます。\n",
    "\n",
    "True ColorのRGB合成\n",
    "* R: Band3（赤）\n",
    "* G: Band2（緑）\n",
    "* B: Band1（青）"
   ]
  },
  {
   "cell_type": "code",
   "execution_count": null,
   "metadata": {},
   "outputs": [],
   "source": [
    "img_true = np.c_[img_band3[:,:,0:1], img_band2[:,:,1:2], img_band1[:,:,2:3]]\n",
    "io.imshow(img_true)"
   ]
  },
  {
   "cell_type": "markdown",
   "metadata": {},
   "source": [
    "#### Natural Color合成\n",
    "True Color以外にも合成方法はあり、例えば植生域だけを際立たせたい時は、植物の分布域が緑で表現されるNatural Colorと呼ばれる合成が用いられます。これは、近赤外線は植物の反射率が高いことを利用し、RGBの赤に赤の波長であるBand3、緑に近赤外の波長であるBand4、青に緑の波長であるBand2を割り当てたものです。\n",
    "\n",
    "Natural ColorのRGB合成\n",
    "* R: Band3（赤）\n",
    "* G: Band4（近赤外）\n",
    "* B: Band2（緑）"
   ]
  },
  {
   "cell_type": "code",
   "execution_count": null,
   "metadata": {
    "scrolled": true
   },
   "outputs": [],
   "source": [
    "img_natural = np.c_[img_band3[:,:,0:1], img_band4[:,:,0:1], img_band2[:,:,1:2]]\n",
    "io.imshow(img_natural)"
   ]
  },
  {
   "cell_type": "markdown",
   "metadata": {},
   "source": [
    "皇居周辺に植物が多いことが見て取れます。"
   ]
  },
  {
   "cell_type": "markdown",
   "metadata": {},
   "source": [
    "#### NDVI\n",
    "Normalized Difference Vegetation Index (NDVI) を用いることでより植生を見ることができます。NDVIとは正規化植生指標のことであり、可視域赤 ($R$, Band3) と近赤外 ($IR$, Band4) のデータから以下の式で計算されます。$[-1, 1]$ に正規化され、値が大きいほど植生が多いことを表します。\n",
    "\n",
    "$$\n",
    "NDVI = \\frac{IR - R}{IR + R}\n",
    "$$"
   ]
  },
  {
   "cell_type": "code",
   "execution_count": null,
   "metadata": {},
   "outputs": [],
   "source": [
    "io.imshow(img_ndvi)"
   ]
  },
  {
   "cell_type": "markdown",
   "metadata": {},
   "source": [
    "### グレースケール化\n",
    "#### グレースケール化①\n",
    "`skimage.color.rgb2gray` を使って直接グレースケール化を試みます。"
   ]
  },
  {
   "cell_type": "code",
   "execution_count": null,
   "metadata": {},
   "outputs": [],
   "source": [
    "# カラー画像からGrayscale画像への変換\n",
    "img_gray_01 = color.rgb2gray(img_true)\n",
    "\n",
    "# 値のレンジを変更 ([0, 1] -> [0, 255])\n",
    "img_gray = img_as_ubyte(img_gray_01) \n",
    "\n",
    "print(\"変換前: [0, 1]\")\n",
    "print(img_gray_01)\n",
    "print(\"変換後: [0, 255]\")\n",
    "print(img_gray)\n",
    "\n",
    "io.imshow(img_gray.astype(np.uint8))"
   ]
  },
  {
   "cell_type": "markdown",
   "metadata": {},
   "source": [
    "#### グレースケール化②\n",
    "別のグレースケール化方法も試してみましょう。一度RGB空間からYIQ空間へ変換し、Yを利用を利用します。YIQ形式は、グレースケール情報がカラーデータから分離しているため、同じ信号をカラーと白黒の両方で使用可能です。\n",
    "\n",
    "（※ グレースケール化のアルゴリズムによっては `img_gray_01` と `img_yiq[:, :, 0]` が等しくなりますが、skimageでは異なります）"
   ]
  },
  {
   "cell_type": "code",
   "execution_count": null,
   "metadata": {},
   "outputs": [],
   "source": [
    "img_yiq = color.rgb2yiq(img_true)\n",
    "img_conb = np.concatenate(\n",
    "    (img_yiq[:, :, 0], img_yiq[:, :, 1], img_yiq[:, :, 2]), axis=1)\n",
    "io.imshow(img_conb)"
   ]
  },
  {
   "cell_type": "code",
   "execution_count": null,
   "metadata": {},
   "outputs": [],
   "source": [
    "# skimage.color.rgb2gray と比較\n",
    "img_conb2 = np.concatenate((img_yiq[:, :, 0], img_gray_01), axis=1)\n",
    "io.imshow(img_conb2)"
   ]
  },
  {
   "cell_type": "code",
   "execution_count": null,
   "metadata": {},
   "outputs": [],
   "source": [
    "# 反転画像も確認\n",
    "img_nega = 255 - img_gray\n",
    "io.imshow(img_nega)"
   ]
  },
  {
   "cell_type": "markdown",
   "metadata": {},
   "source": [
    "#### グレースケール化されたデータの統計情報の確認"
   ]
  },
  {
   "cell_type": "code",
   "execution_count": null,
   "metadata": {},
   "outputs": [],
   "source": [
    "print('pixel sum', np.sum(img_gray[:, :]))\n",
    "print('pixel mean', np.mean(img_gray[:,:]))\n",
    "print('pixel variance', np.var(img_gray[:,:]))\n",
    "print('pixel stddev', np.std(img_gray[:,:]))"
   ]
  },
  {
   "cell_type": "markdown",
   "metadata": {},
   "source": [
    "#### ヒストグラムの確認"
   ]
  },
  {
   "cell_type": "code",
   "execution_count": null,
   "metadata": {},
   "outputs": [],
   "source": [
    "hists, bins = np.histogram(img_gray, 255, [0, 255])\n",
    "plt.plot(hists)"
   ]
  }
 ],
 "metadata": {
  "kernelspec": {
   "display_name": "Python 3",
   "language": "python",
   "name": "python3"
  },
  "language_info": {
   "codemirror_mode": {
    "name": "ipython",
    "version": 3
   },
   "file_extension": ".py",
   "mimetype": "text/x-python",
   "name": "python",
   "nbconvert_exporter": "python",
   "pygments_lexer": "ipython3",
   "version": "3.6.7"
  }
 },
 "nbformat": 4,
 "nbformat_minor": 2
}
