{
 "cells": [
  {
   "cell_type": "markdown",
   "metadata": {},
   "source": [
    "# SAR画像の基礎分析（雪判定）\n",
    "このnotebookでは、合成開口レーダー（SAR）から得られたデータの基礎的な分析として、雪のセグメンテーションを扱います。\n",
    "\n",
    "SARのより詳しい紹介は [こちら（外部サイト）](https://sorabatake.jp/3364/) をご覧ください。\n",
    "\n",
    "***注意:***\n",
    "* **`~/examples` 内では上書き保存することができません。編集する場合は `~/work` ディレクトリへコピーしてから実行することをおすすめします。**\n",
    "* **このnotebookで取得する全てのデータはTellus上での利用に限定されます**\n",
    "* **このnotebookで利用するTellus APIには一部サンプル目的のものが含まれます。これは予告なく変更される場合がございます。**\n",
    "* **このnotebookでの分析の正確性については一切保証いたしません**"
   ]
  },
  {
   "cell_type": "code",
   "execution_count": null,
   "metadata": {},
   "outputs": [],
   "source": [
    "import os\n",
    "import requests\n",
    "import numpy as np\n",
    "from skimage import io\n",
    "from skimage import color\n",
    "from skimage import filters\n",
    "import matplotlib.pyplot as plt\n",
    "%matplotlib inline"
   ]
  },
  {
   "cell_type": "markdown",
   "metadata": {},
   "source": [
    "## TellusからSAR画像の取得と前処理\n",
    "SARサンプルデータをTellusから取得します。SARデータにはいくつかのファイル形式が存在しますが、今回はGeoTIFF（`.tif`）形式のデータを扱います。\n",
    "\n",
    "詳細補足: ALOS-2という衛星のPALSAR-2と呼ばれるセンサから取得され、高分解能3mモードで水平送信水平受信したL2.1のデータを扱います。PALSAR-2については [こちら（外部サイト）](https://www.eorc.jaxa.jp/ALOS-2/about/jpalsar2.htm) をご覧ください。\n",
    "\n",
    "***注意:***\n",
    "* **データサイズが非常に大きいため、完了に数分〜数十分かかる場合があります**\n",
    "* **ここで利用しているAPIはサンプル目的のものです。Tellus Jupyter環境のみから利用できます。正式なAPIは今後追加される予定です。**"
   ]
  },
  {
   "cell_type": "code",
   "execution_count": null,
   "metadata": {},
   "outputs": [],
   "source": [
    "DIR_PATH = os.path.expanduser(\"~/work/data/\")\n",
    "if not os.path.exists(DIR_PATH):\n",
    "    os.makedirs(DIR_PATH, exist_ok=True)\n",
    "\n",
    "SAR_SEP_FILE = \"IMG-HH-ALOS2233612910-180920-UBSR2.1GUD.tif\"\n",
    "SAR_DEC_FILE = \"IMG-HH-ALOS2246032910-181213-UBSR2.1GUD.tif\"\n",
    "SAR_SEP_PATH = os.path.join(DIR_PATH, SAR_SEP_FILE)\n",
    "SAR_DEC_PATH = os.path.join(DIR_PATH, SAR_DEC_FILE)\n",
    "\n",
    "def get_sample_data(file_id, file_path):\n",
    "    if not os.path.exists(file_path):\n",
    "        res = requests.get(\n",
    "            \"https://sample-data.app.tellusxdp.com/1/\" + file_id +\"/data\")\n",
    "        with open(file_path, 'wb') as f:\n",
    "            f.write(res.content)\n",
    "\n",
    "get_sample_data(\"11\", SAR_SEP_PATH)\n",
    "get_sample_data(\"14\", SAR_DEC_PATH)"
   ]
  },
  {
   "cell_type": "markdown",
   "metadata": {},
   "source": [
    "前処理として、クロップとクリッピングを行います。"
   ]
  },
  {
   "cell_type": "code",
   "execution_count": null,
   "metadata": {},
   "outputs": [],
   "source": [
    "path_to_fuji_trim_sep = os.path.join(DIR_PATH, \"mtfuji_sep.png\") # 9月のデータ\n",
    "path_to_fuji_trim_dec = os.path.join(DIR_PATH, \"mtfuji_dec.png\") # 12月のデータ\n",
    "\n",
    "if os.path.exists(path_to_fuji_trim_sep) and os.path.exists(path_to_fuji_trim_dec):\n",
    "    # 前処理済みデータがある場合はそれを読み込んで利用\n",
    "    img_fuji_sep = io.imread(path_to_fuji_trim_sep).astype(int)\n",
    "    img_fuji_dec = io.imread(path_to_fuji_trim_dec).astype(int)\n",
    "else:\n",
    "    # SAR画像（tif形式）の読み込み\n",
    "    img_fuji_sep_org = io.imread(SAR_SEP_PATH)\n",
    "    img_fuji_dec_org = io.imread(SAR_DEC_PATH)\n",
    "\n",
    "    # 前処理\n",
    "    ## データが広範囲に渡るため、富士山周辺のみで切り取る\n",
    "    img_fuji_sep = img_fuji_sep_org[5500:8500,4500:7500,] \n",
    "    img_fuji_dec = img_fuji_dec_org[5500:8500,4500:7500,]\n",
    "\n",
    "    ## 外れ値を含むため、[0, 255]にクリッピング\n",
    "    img_fuji_sep = np.clip(img_fuji_sep / 80 , 0, 255).astype(int)\n",
    "    img_fuji_dec = np.clip(img_fuji_dec / 80 , 0, 255).astype(int)\n",
    "    \n",
    "    ## 前処理済みのデータを保存\n",
    "    io.imsave(path_to_fuji_trim_sep, img_fuji_sep, check_contrast=False)\n",
    "    io.imsave(path_to_fuji_trim_dec, img_fuji_dec, check_contrast=False)"
   ]
  },
  {
   "cell_type": "markdown",
   "metadata": {},
   "source": [
    "## 基礎情報の確認\n",
    "### 画像の確認\n",
    "左が9月のデータ、12月データ、画像左下が山頂です。12月の方が雪の影響なのか若干全体的に暗い印象。"
   ]
  },
  {
   "cell_type": "code",
   "execution_count": null,
   "metadata": {},
   "outputs": [],
   "source": [
    "io.imshow(np.hstack((img_fuji_sep, img_fuji_dec)))"
   ]
  },
  {
   "cell_type": "markdown",
   "metadata": {},
   "source": [
    "### 統計情報の確認"
   ]
  },
  {
   "cell_type": "code",
   "execution_count": null,
   "metadata": {},
   "outputs": [],
   "source": [
    "# 9月のデータ\n",
    "print('pixel sum', np.sum(img_fuji_sep))\n",
    "print('pixel mean', np.mean(img_fuji_sep))\n",
    "print('pixel variance', np.var(img_fuji_sep))\n",
    "print('pixel stddev', np.std(img_fuji_sep))"
   ]
  },
  {
   "cell_type": "code",
   "execution_count": null,
   "metadata": {},
   "outputs": [],
   "source": [
    "# 12月データ\n",
    "print('pixel sum', np.sum(img_fuji_dec))\n",
    "print('pixel mean', np.mean(img_fuji_dec))\n",
    "print('pixel variance', np.var(img_fuji_dec))\n",
    "print('pixel stddev', np.std(img_fuji_dec))"
   ]
  },
  {
   "cell_type": "markdown",
   "metadata": {},
   "source": [
    "### ヒストグラムの確認"
   ]
  },
  {
   "cell_type": "code",
   "execution_count": null,
   "metadata": {
    "scrolled": false
   },
   "outputs": [],
   "source": [
    "hists_sep, bins=np.histogram(img_fuji_sep, 255, [0, 255])\n",
    "hists_dec, bins=np.histogram(img_fuji_dec, 255, [0, 255])\n",
    "\n",
    "plt.plot(hists_sep, color='r')\n",
    "plt.plot(hists_dec, color='b')"
   ]
  },
  {
   "cell_type": "markdown",
   "metadata": {},
   "source": [
    "赤が9月で青が12月です。傾向が異なることが分かります。これが雪によるものなのか、その日の天候によるものなのかは定かでないため、以下で検証していきます。"
   ]
  },
  {
   "cell_type": "markdown",
   "metadata": {},
   "source": [
    "## 2画像差分の確認\n",
    "9月と12月のデータを比較することで、雪と思われる部分を判定してみます。"
   ]
  },
  {
   "cell_type": "code",
   "execution_count": null,
   "metadata": {},
   "outputs": [],
   "source": [
    "#差分を抽出\n",
    "img_fuji_diff =  img_fuji_sep - img_fuji_dec\n",
    "io.imshow(img_fuji_diff)"
   ]
  },
  {
   "cell_type": "markdown",
   "metadata": {},
   "source": [
    "このままではノイズが多すぎて分からないため、ぼかしを追加します。"
   ]
  },
  {
   "cell_type": "code",
   "execution_count": null,
   "metadata": {
    "scrolled": false
   },
   "outputs": [],
   "source": [
    "img_fuji_diff_gaus = filters.gaussian(img_fuji_diff, sigma=8)\n",
    "io.imshow(img_fuji_diff_gaus)"
   ]
  },
  {
   "cell_type": "markdown",
   "metadata": {},
   "source": [
    "見やすいように `[0, 255]` にスケールさせます。"
   ]
  },
  {
   "cell_type": "code",
   "execution_count": null,
   "metadata": {
    "scrolled": false
   },
   "outputs": [],
   "source": [
    "img_fuji_diff_gaus_norm = np.clip(img_fuji_diff_gaus * 10 ** 20 , 0, 255).astype(int)\n",
    "io.imshow(img_fuji_diff_gaus_norm)"
   ]
  },
  {
   "cell_type": "markdown",
   "metadata": {},
   "source": [
    "3〜5合目辺り（画像中央あたり）は変化が大きく、雪の可能性があると言えます。このnotebookでの分析はここまでですが、植生の変化など別の原因も考えられるので、より詳しい分析が必要となります。"
   ]
  }
 ],
 "metadata": {
  "kernelspec": {
   "display_name": "Python 3",
   "language": "python",
   "name": "python3"
  },
  "language_info": {
   "codemirror_mode": {
    "name": "ipython",
    "version": 3
   },
   "file_extension": ".py",
   "mimetype": "text/x-python",
   "name": "python",
   "nbconvert_exporter": "python",
   "pygments_lexer": "ipython3",
   "version": "3.6.8"
  }
 },
 "nbformat": 4,
 "nbformat_minor": 2
}
